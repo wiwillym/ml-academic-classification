{
 "cells": [
  {
   "cell_type": "code",
   "execution_count": 1,
   "metadata": {},
   "outputs": [
    {
     "name": "stderr",
     "output_type": "stream",
     "text": [
      "C:\\Users\\guill\\anaconda3\\lib\\site-packages\\sklearn\\utils\\deprecation.py:144: FutureWarning: The sklearn.metrics.classification module is  deprecated in version 0.22 and will be removed in version 0.24. The corresponding classes / functions should instead be imported from sklearn.metrics. Anything that cannot be imported from sklearn.metrics is now part of the private API.\n",
      "  warnings.warn(message, FutureWarning)\n"
     ]
    }
   ],
   "source": [
    "import numpy as np\n",
    "import pandas as pd\n",
    "import seaborn as sns\n",
    "import matplotlib.pyplot as plt\n",
    "from sklearn.model_selection import train_test_split\n",
    "from sklearn.preprocessing import OneHotEncoder, StandardScaler\n",
    "from sklearn.linear_model import LogisticRegression\n",
    "from sklearn.metrics import classification_report, classification, accuracy_score, plot_confusion_matrix\n",
    "from sklearn.svm import SVC"
   ]
  },
  {
   "cell_type": "code",
   "execution_count": 2,
   "metadata": {},
   "outputs": [],
   "source": [
    "data_mat = pd.read_csv('student/student-mat.csv', sep=';')\n",
    "data_por = pd.read_csv('student/student-por.csv', sep=';')"
   ]
  },
  {
   "cell_type": "code",
   "execution_count": 3,
   "metadata": {},
   "outputs": [
    {
     "data": {
      "text/plain": [
       "(395, 33)"
      ]
     },
     "execution_count": 3,
     "metadata": {},
     "output_type": "execute_result"
    }
   ],
   "source": [
    "data_mat.shape"
   ]
  },
  {
   "cell_type": "code",
   "execution_count": 4,
   "metadata": {},
   "outputs": [
    {
     "data": {
      "text/plain": [
       "(649, 33)"
      ]
     },
     "execution_count": 4,
     "metadata": {},
     "output_type": "execute_result"
    }
   ],
   "source": [
    "data_por.shape"
   ]
  },
  {
   "cell_type": "code",
   "execution_count": 5,
   "metadata": {},
   "outputs": [],
   "source": [
    "def label_class_binary(row):\n",
    "    if row['G3'] <= 9:\n",
    "        return 0\n",
    "    elif 10 <= row['G3'] <= 20:\n",
    "        return 1"
   ]
  },
  {
   "cell_type": "code",
   "execution_count": 6,
   "metadata": {},
   "outputs": [],
   "source": [
    "data_por['Dalc'] = data_por['Dalc'] + data_por['Walc']"
   ]
  },
  {
   "cell_type": "code",
   "execution_count": 7,
   "metadata": {},
   "outputs": [],
   "source": [
    "usable_data_grades = data_por[['sex', 'age', 'school', 'address', 'famsize', 'Pstatus', 'Medu', 'Fedu', 'Mjob', 'Fjob', 'reason', 'guardian', 'traveltime', 'studytime', 'failures', 'schoolsup', 'famsup', 'paid', 'activities', 'nursery', 'higher', 'internet', 'romantic', 'famrel', 'freetime', 'goout', 'Dalc', 'health', 'absences', 'G1', 'G2', 'G3']]\n",
    "usable_data_no_grades = data_por[['sex', 'age', 'school', 'address', 'famsize', 'Pstatus', 'Medu', 'Fedu', 'Mjob', 'Fjob', 'reason', 'guardian', 'traveltime', 'studytime', 'failures', 'schoolsup', 'famsup', 'paid', 'activities', 'nursery', 'higher', 'internet', 'romantic', 'famrel', 'freetime', 'goout', 'Dalc', 'health', 'absences', 'G3']]\n",
    "social_data = data_por[['famsize', 'Pstatus', 'romantic', 'famrel', 'freetime', 'goout', 'Dalc', 'G3']]\n",
    "academic_data_grades = data_por[['studytime', 'failures', 'paid', 'higher', 'internet', 'absences', 'G1', 'G2', 'G3']]\n",
    "academic_data_no_grades = data_por[['studytime', 'failures', 'paid', 'higher', 'internet', 'absences', 'G3']]\n",
    "personal_data = data_por[['sex', 'address', 'Medu', 'Fedu', 'traveltime', 'activities', 'romantic', 'famrel', 'goout', 'Dalc', 'health', 'G3']]"
   ]
  },
  {
   "cell_type": "code",
   "execution_count": 8,
   "metadata": {},
   "outputs": [
    {
     "name": "stderr",
     "output_type": "stream",
     "text": [
      "C:\\Users\\guill\\anaconda3\\lib\\site-packages\\pandas\\core\\generic.py:6746: SettingWithCopyWarning: \n",
      "A value is trying to be set on a copy of a slice from a DataFrame\n",
      "\n",
      "See the caveats in the documentation: https://pandas.pydata.org/pandas-docs/stable/user_guide/indexing.html#returning-a-view-versus-a-copy\n",
      "  self._update_inplace(new_data)\n"
     ]
    }
   ],
   "source": [
    "usable_data_grades['paid'].replace(['yes','no'],[1,0],inplace=True)\n",
    "usable_data_grades['activities'].replace(['yes','no'],[1,0],inplace=True)\n",
    "usable_data_grades['higher'].replace(['yes','no'],[1,0],inplace=True)\n",
    "usable_data_grades['internet'].replace(['yes','no'],[1,0],inplace=True)\n",
    "usable_data_grades['romantic'].replace(['yes','no'],[1,0],inplace=True)\n",
    "usable_data_grades['schoolsup'].replace(['yes','no'],[1,0],inplace=True)\n",
    "usable_data_grades['famsup'].replace(['yes','no'],[1,0],inplace=True)\n",
    "usable_data_grades['nursery'].replace(['yes','no'],[1,0],inplace=True)\n",
    "\n",
    "usable_data_no_grades['paid'].replace(['yes','no'],[1,0],inplace=True)\n",
    "usable_data_no_grades['activities'].replace(['yes','no'],[1,0],inplace=True)\n",
    "usable_data_no_grades['higher'].replace(['yes','no'],[1,0],inplace=True)\n",
    "usable_data_no_grades['internet'].replace(['yes','no'],[1,0],inplace=True)\n",
    "usable_data_no_grades['romantic'].replace(['yes','no'],[1,0],inplace=True)\n",
    "usable_data_no_grades['schoolsup'].replace(['yes','no'],[1,0],inplace=True)\n",
    "usable_data_no_grades['famsup'].replace(['yes','no'],[1,0],inplace=True)\n",
    "usable_data_no_grades['nursery'].replace(['yes','no'],[1,0],inplace=True)\n",
    "\n",
    "\n",
    "social_data['romantic'].replace(['yes','no'],[1,0],inplace=True)\n",
    "\n",
    "academic_data_grades['paid'].replace(['yes','no'],[1,0],inplace=True)\n",
    "academic_data_grades['higher'].replace(['yes','no'],[1,0],inplace=True)\n",
    "academic_data_grades['internet'].replace(['yes','no'],[1,0],inplace=True)\n",
    "\n",
    "academic_data_no_grades['paid'].replace(['yes','no'],[1,0],inplace=True)\n",
    "academic_data_no_grades['higher'].replace(['yes','no'],[1,0],inplace=True)\n",
    "academic_data_no_grades['internet'].replace(['yes','no'],[1,0],inplace=True)\n",
    "\n",
    "personal_data['activities'].replace(['yes','no'],[1,0],inplace=True)\n",
    "personal_data['romantic'].replace(['yes','no'],[1,0],inplace=True)"
   ]
  },
  {
   "cell_type": "code",
   "execution_count": 9,
   "metadata": {},
   "outputs": [],
   "source": [
    "# Get one hot encoding of columns\n",
    "\n",
    "usable_data_grades = pd.get_dummies(data=usable_data_grades, columns=['school', 'sex', 'address', 'famsize', 'Pstatus', 'Mjob', 'Fjob', 'reason', 'guardian'])\n",
    "usable_data_no_grades = pd.get_dummies(data=usable_data_no_grades, columns=['school', 'sex', 'address', 'famsize', 'Pstatus', 'Mjob', 'Fjob', 'reason', 'guardian'])\n",
    "#usable_data_por = pd.get_dummies(data=usable_data_por, columns=['sex', 'age', 'address', 'famsize', 'Pstatus'])\n",
    "social_data = pd.get_dummies(data=social_data, columns=['famsize', 'Pstatus'])\n",
    "personal_data = pd.get_dummies(data=personal_data, columns=['sex', 'address'])"
   ]
  },
  {
   "cell_type": "code",
   "execution_count": 10,
   "metadata": {},
   "outputs": [
    {
     "name": "stderr",
     "output_type": "stream",
     "text": [
      "C:\\Users\\guill\\anaconda3\\lib\\site-packages\\ipykernel_launcher.py:4: SettingWithCopyWarning: \n",
      "A value is trying to be set on a copy of a slice from a DataFrame.\n",
      "Try using .loc[row_indexer,col_indexer] = value instead\n",
      "\n",
      "See the caveats in the documentation: https://pandas.pydata.org/pandas-docs/stable/user_guide/indexing.html#returning-a-view-versus-a-copy\n",
      "  after removing the cwd from sys.path.\n",
      "C:\\Users\\guill\\anaconda3\\lib\\site-packages\\ipykernel_launcher.py:5: SettingWithCopyWarning: \n",
      "A value is trying to be set on a copy of a slice from a DataFrame.\n",
      "Try using .loc[row_indexer,col_indexer] = value instead\n",
      "\n",
      "See the caveats in the documentation: https://pandas.pydata.org/pandas-docs/stable/user_guide/indexing.html#returning-a-view-versus-a-copy\n",
      "  \"\"\"\n"
     ]
    }
   ],
   "source": [
    "def create_classes(label_class_function):\n",
    "    usable_data_grades['class'] = usable_data_grades.apply (lambda row: label_class_function(row), axis=1)\n",
    "    usable_data_no_grades['class'] = usable_data_no_grades.apply (lambda row: label_class_function(row), axis=1)\n",
    "    academic_data_grades['class'] = academic_data_grades.apply (lambda row: label_class_function(row), axis=1)\n",
    "    academic_data_no_grades['class'] = academic_data_no_grades.apply (lambda row: label_class_function(row), axis=1)\n",
    "    social_data['class'] = social_data.apply (lambda row: label_class_function(row), axis=1)\n",
    "    personal_data['class'] = social_data.apply (lambda row: label_class_function(row), axis=1)\n",
    "    \n",
    "create_classes(label_class_binary)"
   ]
  },
  {
   "cell_type": "code",
   "execution_count": 11,
   "metadata": {},
   "outputs": [],
   "source": [
    "usable_data_grades = usable_data_grades.drop(['G3'], axis=1)\n",
    "academic_data_grades = academic_data_grades.drop(['G3'], axis=1)\n",
    "usable_data_no_grades = usable_data_no_grades.drop(['G3'], axis=1)\n",
    "academic_data_no_grades = academic_data_no_grades.drop(['G3'], axis=1)\n",
    "social_data = social_data.drop(['G3'], axis=1)\n",
    "personal_data = personal_data.drop(['G3'], axis=1)"
   ]
  },
  {
   "cell_type": "code",
   "execution_count": 12,
   "metadata": {},
   "outputs": [
    {
     "data": {
      "text/plain": [
       "1    549\n",
       "0    100\n",
       "Name: class, dtype: int64"
      ]
     },
     "execution_count": 12,
     "metadata": {},
     "output_type": "execute_result"
    }
   ],
   "source": [
    "usable_data_grades['class'].value_counts()"
   ]
  },
  {
   "cell_type": "code",
   "execution_count": 13,
   "metadata": {},
   "outputs": [],
   "source": [
    "dataX_usbl_grades = usable_data_grades.loc[:, usable_data_grades.columns != 'class']\n",
    "dataY_usbl_grades = usable_data_grades['class']\n",
    "\n",
    "dataX_acdmc_grades = academic_data_grades.loc[:, academic_data_grades.columns != 'class']\n",
    "dataY_acdmc_grades = academic_data_grades['class']\n",
    "\n",
    "dataX_usbl_no_grades = usable_data_no_grades.loc[:, usable_data_no_grades.columns != 'class']\n",
    "dataY_usbl_no_grades = usable_data_no_grades['class']\n",
    "\n",
    "dataX_acdmc_no_grades = academic_data_no_grades.loc[:, academic_data_no_grades.columns != 'class']\n",
    "dataY_acdmc_no_grades = academic_data_no_grades['class']\n",
    "\n",
    "dataX_soc = social_data.loc[:, social_data.columns != 'class']\n",
    "dataY_soc = social_data['class']\n",
    "\n",
    "dataX_per = personal_data.loc[:, personal_data.columns != 'class']\n",
    "dataY_per = personal_data['class']"
   ]
  },
  {
   "cell_type": "code",
   "execution_count": 14,
   "metadata": {},
   "outputs": [],
   "source": [
    "# Dividimos los datos en forma aleatoria utilizando la funcion\n",
    "# train_test_split de sklearn en conjuntos de entrenamiento (60%),\n",
    "# validación (20%) y testeo (20%)\n",
    "\n",
    "test_ratio = 0.40\n",
    "\n",
    "X_train_usbl_grades, X_test_usbl_grades, Y_train_usbl_grades, Y_test_usbl_grades = train_test_split(dataX_usbl_grades, dataY_usbl_grades, test_size=test_ratio, random_state=46)\n",
    "X_train_acdmc_grades, X_test_acdmc_grades, Y_train_acdmc_grades, Y_test_acdmc_grades = train_test_split(dataX_acdmc_grades, dataY_acdmc_grades, test_size=test_ratio, random_state=46)\n",
    "X_train_usbl_no_grades, X_test_usbl_no_grades, Y_train_usbl_no_grades, Y_test_usbl_no_grades = train_test_split(dataX_usbl_no_grades, dataY_usbl_no_grades, test_size=test_ratio, random_state=46)\n",
    "X_train_acdmc_no_grades, X_test_acdmc_no_grades, Y_train_acdmc_no_grades, Y_test_acdmc_no_grades = train_test_split(dataX_acdmc_no_grades, dataY_acdmc_no_grades, test_size=test_ratio, random_state=46)\n",
    "X_train_soc, X_test_soc, Y_train_soc, Y_test_soc = train_test_split(dataX_soc, dataY_soc, test_size=test_ratio, random_state=46)\n",
    "X_train_per, X_test_per, Y_train_per, Y_test_per = train_test_split(dataX_per, dataY_per, test_size=test_ratio, random_state=46)"
   ]
  },
  {
   "cell_type": "code",
   "execution_count": 15,
   "metadata": {},
   "outputs": [],
   "source": [
    "sc_usbl_grades = StandardScaler()\n",
    "sc_acdmc_grades = StandardScaler()\n",
    "sc_usbl_no_grades = StandardScaler()\n",
    "sc_acdmc_no_grades = StandardScaler()\n",
    "sc_soc = StandardScaler()\n",
    "sc_per = StandardScaler()\n",
    "X_train_usbl_grades_svc = sc_usbl_grades.fit_transform(X_train_usbl_grades)\n",
    "X_train_acdmc_grades_svc = sc_acdmc_grades.fit_transform(X_train_acdmc_grades)\n",
    "X_train_usbl_no_grades_svc = sc_usbl_no_grades.fit_transform(X_train_usbl_no_grades)\n",
    "X_train_acdmc_no_grades_svc = sc_acdmc_no_grades.fit_transform(X_train_acdmc_no_grades)\n",
    "X_train_soc_svc = sc_soc.fit_transform(X_train_soc)\n",
    "X_train_per_svc = sc_per.fit_transform(X_train_per)\n",
    "\n",
    "X_test_usbl_grades_svc = sc_usbl_grades.transform(X_test_usbl_grades)\n",
    "X_test_acdmc_grades_svc = sc_acdmc_grades.transform(X_test_acdmc_grades)\n",
    "X_test_usbl_no_grades_svc = sc_usbl_no_grades.transform(X_test_usbl_no_grades)\n",
    "X_test_acdmc_no_grades_svc = sc_acdmc_no_grades.transform(X_test_acdmc_no_grades)\n",
    "X_test_soc_svc = sc_soc.transform(X_test_soc)\n",
    "X_test_per_svc = sc_per.transform(X_test_per)\n"
   ]
  },
  {
   "cell_type": "code",
   "execution_count": 16,
   "metadata": {},
   "outputs": [],
   "source": [
    "clf_usbl_grades = LogisticRegression(solver='lbfgs',max_iter=5000, class_weight='balanced', multi_class='ovr')\n",
    "clf_acdmc_grades = LogisticRegression(solver='lbfgs',max_iter=5000, class_weight='balanced', multi_class='ovr')\n",
    "clf_usbl_no_grades = LogisticRegression(solver='lbfgs',max_iter=5000, class_weight='balanced', multi_class='ovr')\n",
    "clf_acdmc_no_grades = LogisticRegression(solver='lbfgs',max_iter=5000, class_weight='balanced', multi_class='ovr')\n",
    "clf_soc = LogisticRegression(solver='lbfgs',max_iter=5000, class_weight='balanced', multi_class='ovr')\n",
    "clf_per = LogisticRegression(solver='lbfgs',max_iter=5000, class_weight='balanced', multi_class='ovr')\n",
    "\n",
    "svc_usbl_grades = SVC(kernel='rbf', C=1, gamma='scale', class_weight='balanced', random_state=0)\n",
    "svc_acdmc_grades = SVC(kernel='rbf', C=1, gamma='scale', class_weight='balanced', random_state=0)\n",
    "svc_usbl_no_grades = SVC(kernel='rbf', C=1, gamma='scale', class_weight='balanced', random_state=0)\n",
    "svc_acdmc_no_grades = SVC(kernel='rbf', C=1, gamma='scale', class_weight='balanced', random_state=0)\n",
    "svc_soc = SVC(kernel='rbf', C=1, gamma='scale', class_weight='balanced', random_state=0)\n",
    "svc_per = SVC(kernel='rbf', C=1, gamma='scale', class_weight='balanced', random_state=0)\n",
    "\n",
    "\n",
    "clf_usbl_grades.fit(X_train_usbl_grades, Y_train_usbl_grades)\n",
    "clf_acdmc_grades.fit(X_train_acdmc_grades, Y_train_acdmc_grades)\n",
    "clf_usbl_no_grades.fit(X_train_usbl_no_grades, Y_train_usbl_no_grades)\n",
    "clf_acdmc_no_grades.fit(X_train_acdmc_no_grades, Y_train_acdmc_no_grades)\n",
    "clf_soc.fit(X_train_soc, Y_train_soc)\n",
    "clf_per.fit(X_train_per, Y_train_per)\n",
    "\n",
    "svc_usbl_grades.fit(X_train_usbl_grades_svc, Y_train_usbl_grades)\n",
    "svc_acdmc_grades.fit(X_train_acdmc_grades_svc, Y_train_acdmc_grades)\n",
    "svc_usbl_no_grades.fit(X_train_usbl_no_grades_svc, Y_train_usbl_no_grades)\n",
    "svc_acdmc_no_grades.fit(X_train_acdmc_no_grades_svc, Y_train_acdmc_no_grades)\n",
    "svc_soc.fit(X_train_soc_svc, Y_train_soc)\n",
    "svc_per.fit(X_train_per_svc, Y_train_per)\n",
    "\n",
    "\n",
    "y_pred_usbl_grades = clf_usbl_grades.predict(X_test_usbl_grades)\n",
    "y_pred_acdmc_grades = clf_acdmc_grades.predict(X_test_acdmc_grades)\n",
    "y_pred_usbl_no_grades = clf_usbl_no_grades.predict(X_test_usbl_no_grades)\n",
    "y_pred_acdmc_no_grades = clf_acdmc_no_grades.predict(X_test_acdmc_no_grades)\n",
    "y_pred_soc = clf_soc.predict(X_test_soc)\n",
    "y_pred_per = clf_per.predict(X_test_per)\n",
    "\n",
    "y_pred_usbl_grades_svc = svc_usbl_grades.predict(X_test_usbl_grades_svc)\n",
    "y_pred_acdmc_grades_svc = svc_acdmc_grades.predict(X_test_acdmc_grades_svc)\n",
    "y_pred_usbl_no_grades_svc = svc_usbl_no_grades.predict(X_test_usbl_no_grades_svc)\n",
    "y_pred_acdmc_no_grades_svc = svc_acdmc_no_grades.predict(X_test_acdmc_no_grades_svc)\n",
    "y_pred_soc_svc = svc_soc.predict(X_test_soc_svc)\n",
    "y_pred_per_svc = svc_per.predict(X_test_per_svc)"
   ]
  },
  {
   "cell_type": "code",
   "execution_count": 17,
   "metadata": {
    "scrolled": false
   },
   "outputs": [
    {
     "data": {
      "image/png": "[encoded data removed]",
      "text/plain": [
       "<Figure size 432x288 with 2 Axes>"
      ]
     },
     "metadata": {
      "needs_background": "light"
     },
     "output_type": "display_data"
    },
    {
     "data": {
      "image/png": "[encoded data removed]",
      "text/plain": [
       "<Figure size 432x288 with 2 Axes>"
      ]
     },
     "metadata": {
      "needs_background": "light"
     },
     "output_type": "display_data"
    },
    {
     "data": {
      "image/png": "[encoded data removed]",
      "text/plain": [
       "<Figure size 432x288 with 2 Axes>"
      ]
     },
     "metadata": {
      "needs_background": "light"
     },
     "output_type": "display_data"
    },
    {
     "data": {
      "image/png": "[encoded data removed]",
      "text/plain": [
       "<Figure size 432x288 with 2 Axes>"
      ]
     },
     "metadata": {
      "needs_background": "light"
     },
     "output_type": "display_data"
    },
    {
     "data": {
      "image/png": "[encoded data removed]",
      "text/plain": [
       "<Figure size 432x288 with 2 Axes>"
      ]
     },
     "metadata": {
      "needs_background": "light"
     },
     "output_type": "display_data"
    },
    {
     "data": {
      "image/png": "[encoded data removed]",
      "text/plain": [
       "<Figure size 432x288 with 2 Axes>"
      ]
     },
     "metadata": {
      "needs_background": "light"
     },
     "output_type": "display_data"
    },
    {
     "data": {
      "image/png": "[encoded data removed]",
      "text/plain": [
       "<Figure size 432x288 with 2 Axes>"
      ]
     },
     "metadata": {
      "needs_background": "light"
     },
     "output_type": "display_data"
    },
    {
     "data": {
      "image/png": "[encoded data removed]",
      "text/plain": [
       "<Figure size 432x288 with 2 Axes>"
      ]
     },
     "metadata": {
      "needs_background": "light"
     },
     "output_type": "display_data"
    },
    {
     "data": {
      "image/png": "[encoded data removed]",
      "text/plain": [
       "<Figure size 432x288 with 2 Axes>"
      ]
     },
     "metadata": {
      "needs_background": "light"
     },
     "output_type": "display_data"
    },
    {
     "data": {
      "image/png": "[encoded data removed]",
      "text/plain": [
       "<Figure size 432x288 with 2 Axes>"
      ]
     },
     "metadata": {
      "needs_background": "light"
     },
     "output_type": "display_data"
    },
    {
     "data": {
      "image/png": "[encoded data removed]",
      "text/plain": [
       "<Figure size 432x288 with 2 Axes>"
      ]
     },
     "metadata": {
      "needs_background": "light"
     },
     "output_type": "display_data"
    },
    {
     "data": {
      "image/png": "[encoded data removed]",
      "text/plain": [
       "<Figure size 432x288 with 2 Axes>"
      ]
     },
     "metadata": {
      "needs_background": "light"
     },
     "output_type": "display_data"
    }
   ],
   "source": [
    "# Plots for all the confusion matrices\n",
    "\n",
    "titles_options = [(\"All usable data WITH grades (LR)\", clf_usbl_grades, X_test_usbl_grades, Y_test_usbl_grades, 'binary_lr_usbl_with'),\n",
    "                  (\"All usable data WITH grades (SVM)\", svc_usbl_grades, X_test_usbl_grades_svc, Y_test_usbl_grades, 'binary_svm_usbl_with'),\n",
    "                  (\"All usable data WITHOUT grades (LR)\", clf_usbl_no_grades, X_test_usbl_no_grades, Y_test_usbl_no_grades, 'binary_lr_usbl_without'),\n",
    "                  (\"All usable data WITHOUT grades (SVM)\", svc_usbl_no_grades, X_test_usbl_no_grades_svc, Y_test_usbl_no_grades, 'binary_svm_usbl_without'),\n",
    "                  (\"Academic data WITH grades (LR)\", clf_acdmc_grades, X_test_acdmc_grades, Y_test_acdmc_grades, 'binary_lr_acdmc_with'),\n",
    "                  (\"Academic data WITH grades (SVM)\", svc_acdmc_grades, X_test_acdmc_grades_svc, Y_test_acdmc_grades, 'binary_svm_acdmc_with'),\n",
    "                  (\"Academic data WITHOUT grades (LR)\", clf_acdmc_no_grades, X_test_acdmc_no_grades, Y_test_acdmc_no_grades, 'binary_lr_acdmc_without'),\n",
    "                  (\"Academic data WITHOUT grades (SVM)\", svc_acdmc_no_grades, X_test_acdmc_no_grades_svc, Y_test_acdmc_no_grades, 'binary_svm_acdmc_without'),\n",
    "                  (\"Social data (LR)\", clf_soc, X_test_soc, Y_test_soc, 'binary_lr_soc'),\n",
    "                  (\"Social data (SVM)\", svc_soc, X_test_soc_svc, Y_test_soc, 'binary_svm_soc'),\n",
    "                  (\"Personal data (LR)\", clf_per, X_test_per, Y_test_per, 'binary_lr_per'),\n",
    "                  (\"Personal data (SVM)\", svc_per, X_test_per_svc, Y_test_per, 'binary_svm_per')]\n",
    "for title, classifier, x_test, y_test, name in titles_options:\n",
    "    disp = plot_confusion_matrix(classifier, x_test, y_test,\n",
    "                                 cmap=plt.cm.Blues,\n",
    "                                 values_format='d')\n",
    "    disp.ax_.set_title(title)\n",
    "\n",
    "    image = name + '.png'\n",
    "    #plt.savefig(image, dpi=300, bbox_inches='tight')\n",
    "    \n",
    "\n",
    "plt.show()"
   ]
  },
  {
   "cell_type": "code",
   "execution_count": 18,
   "metadata": {
    "scrolled": false
   },
   "outputs": [
    {
     "name": "stdout",
     "output_type": "stream",
     "text": [
      "----------------------------------------------------------------\n",
      "------------------------ USABLE WITH GRADES --------------------------\n",
      "----------------------------------------------------------------\n",
      "LOGISTIC REGRESSION\n",
      "              precision    recall  f1-score   support\n",
      "\n",
      "           0       0.57      0.85      0.68        33\n",
      "           1       0.98      0.91      0.94       227\n",
      "\n",
      "    accuracy                           0.90       260\n",
      "   macro avg       0.77      0.88      0.81       260\n",
      "weighted avg       0.92      0.90      0.91       260\n",
      "\n",
      "SUPPORT VECTOR MACHINES\n",
      "              precision    recall  f1-score   support\n",
      "\n",
      "           0       0.60      0.76      0.67        33\n",
      "           1       0.96      0.93      0.94       227\n",
      "\n",
      "    accuracy                           0.90       260\n",
      "   macro avg       0.78      0.84      0.81       260\n",
      "weighted avg       0.92      0.90      0.91       260\n",
      "\n",
      "------------------------------------------------------------\n",
      "\n",
      "\n",
      "----------------------------------------------------------------\n",
      "------------------------ USABLE WITHOUT GRADES --------------------------\n",
      "----------------------------------------------------------------\n",
      "LOGISTIC REGRESSION\n",
      "              precision    recall  f1-score   support\n",
      "\n",
      "           0       0.28      0.70      0.40        33\n",
      "           1       0.94      0.74      0.83       227\n",
      "\n",
      "    accuracy                           0.73       260\n",
      "   macro avg       0.61      0.72      0.61       260\n",
      "weighted avg       0.86      0.73      0.78       260\n",
      "\n",
      "SUPPORT VECTOR MACHINES\n",
      "              precision    recall  f1-score   support\n",
      "\n",
      "           0       0.37      0.55      0.44        33\n",
      "           1       0.93      0.86      0.89       227\n",
      "\n",
      "    accuracy                           0.82       260\n",
      "   macro avg       0.65      0.70      0.67       260\n",
      "weighted avg       0.86      0.82      0.84       260\n",
      "\n",
      "------------------------------------------------------------\n",
      "\n",
      "\n",
      "----------------------------------------------------------------\n",
      "------------------------ ACADEMIC WITH GRADES --------------------------\n",
      "----------------------------------------------------------------\n",
      "LOGISTIC REGRESSION\n",
      "              precision    recall  f1-score   support\n",
      "\n",
      "           0       0.60      0.91      0.72        33\n",
      "           1       0.99      0.91      0.95       227\n",
      "\n",
      "    accuracy                           0.91       260\n",
      "   macro avg       0.79      0.91      0.84       260\n",
      "weighted avg       0.94      0.91      0.92       260\n",
      "\n",
      "SUPPORT VECTOR MACHINES\n",
      "              precision    recall  f1-score   support\n",
      "\n",
      "           0       0.50      0.82      0.62        33\n",
      "           1       0.97      0.88      0.92       227\n",
      "\n",
      "    accuracy                           0.87       260\n",
      "   macro avg       0.74      0.85      0.77       260\n",
      "weighted avg       0.91      0.87      0.89       260\n",
      "\n",
      "------------------------------------------------------------\n",
      "\n",
      "\n",
      "----------------------------------------------------------------\n",
      "------------------------ ACADEMIC WITHOUT GRADES --------------------------\n",
      "----------------------------------------------------------------\n",
      "LOGISTIC REGRESSION\n",
      "              precision    recall  f1-score   support\n",
      "\n",
      "           0       0.34      0.64      0.44        33\n",
      "           1       0.94      0.82      0.88       227\n",
      "\n",
      "    accuracy                           0.80       260\n",
      "   macro avg       0.64      0.73      0.66       260\n",
      "weighted avg       0.86      0.80      0.82       260\n",
      "\n",
      "SUPPORT VECTOR MACHINES\n",
      "              precision    recall  f1-score   support\n",
      "\n",
      "           0       0.41      0.55      0.47        33\n",
      "           1       0.93      0.89      0.91       227\n",
      "\n",
      "    accuracy                           0.84       260\n",
      "   macro avg       0.67      0.72      0.69       260\n",
      "weighted avg       0.86      0.84      0.85       260\n",
      "\n",
      "------------------------------------------------------------\n",
      "\n",
      "\n",
      "----------------------------------------------------------------\n",
      "------------------------ SOCIAL --------------------------\n",
      "----------------------------------------------------------------\n",
      "LOGISTIC REGRESSION\n",
      "              precision    recall  f1-score   support\n",
      "\n",
      "           0       0.17      0.61      0.26        33\n",
      "           1       0.91      0.57      0.70       227\n",
      "\n",
      "    accuracy                           0.57       260\n",
      "   macro avg       0.54      0.59      0.48       260\n",
      "weighted avg       0.81      0.57      0.64       260\n",
      "\n",
      "SUPPORT VECTOR MACHINES\n",
      "              precision    recall  f1-score   support\n",
      "\n",
      "           0       0.14      0.42      0.21        33\n",
      "           1       0.88      0.61      0.72       227\n",
      "\n",
      "    accuracy                           0.59       260\n",
      "   macro avg       0.51      0.52      0.46       260\n",
      "weighted avg       0.79      0.59      0.66       260\n",
      "\n",
      "------------------------------------------------------------\n",
      "\n",
      "\n",
      "----------------------------------------------------------------\n",
      "------------------------ PERSONAL --------------------------\n",
      "----------------------------------------------------------------\n",
      "LOGISTIC REGRESSION\n",
      "              precision    recall  f1-score   support\n",
      "\n",
      "           0       0.20      0.61      0.30        33\n",
      "           1       0.92      0.65      0.76       227\n",
      "\n",
      "    accuracy                           0.64       260\n",
      "   macro avg       0.56      0.63      0.53       260\n",
      "weighted avg       0.83      0.64      0.70       260\n",
      "\n",
      "SUPPORT VECTOR MACHINES\n",
      "              precision    recall  f1-score   support\n",
      "\n",
      "           0       0.18      0.48      0.27        33\n",
      "           1       0.90      0.69      0.78       227\n",
      "\n",
      "    accuracy                           0.66       260\n",
      "   macro avg       0.54      0.59      0.52       260\n",
      "weighted avg       0.81      0.66      0.71       260\n",
      "\n",
      "------------------------------------------------------------\n",
      "\n",
      "\n"
     ]
    }
   ],
   "source": [
    "prints = [('USABLE WITH GRADES', Y_test_usbl_grades, y_pred_usbl_grades, Y_test_usbl_grades, y_pred_usbl_grades_svc),\n",
    "         ('USABLE WITHOUT GRADES', Y_test_usbl_no_grades, y_pred_usbl_no_grades, Y_test_usbl_no_grades, y_pred_usbl_no_grades_svc),\n",
    "         ('ACADEMIC WITH GRADES', Y_test_acdmc_grades, y_pred_acdmc_grades, Y_test_acdmc_grades, y_pred_acdmc_grades_svc),\n",
    "         ('ACADEMIC WITHOUT GRADES', Y_test_acdmc_no_grades, y_pred_acdmc_no_grades, Y_test_acdmc_no_grades, y_pred_acdmc_no_grades_svc),\n",
    "         ('SOCIAL', Y_test_soc, y_pred_soc, Y_test_soc, y_pred_soc_svc),\n",
    "         ('PERSONAL', Y_test_per, y_pred_per, Y_test_per, y_pred_per_svc)]\n",
    "\n",
    "for title, y_test, y_pred, y_test_svc, y_pred_svc in prints:\n",
    "    report_lr = classification_report(y_test, y_pred)\n",
    "    report_svm = classification_report(y_test_svc, y_pred_svc)\n",
    "    print('----------------------------------------------------------------')\n",
    "    print('------------------------', title, '--------------------------')\n",
    "    print('----------------------------------------------------------------')\n",
    "    print('LOGISTIC REGRESSION')\n",
    "    print(report_lr)\n",
    "    print('SUPPORT VECTOR MACHINES')\n",
    "    print(report_svm)\n",
    "    print('------------------------------------------------------------')\n",
    "    print('\\n')"
   ]
  },
  {
   "cell_type": "code",
   "execution_count": 19,
   "metadata": {
    "scrolled": false
   },
   "outputs": [
    {
     "name": "stdout",
     "output_type": "stream",
     "text": [
      "----------------------------------------------------------------\n",
      "------------------------ USABLE WITH GRADES --------------------------\n",
      "----------------------------------------------------------------\n",
      "LOGISTIC REGRESSION\n",
      "\\begin{table}\n",
      "\\centering\n",
      "\\caption{USABLE WITH GRADES}\n",
      "\\begin{tabular}{lrrrr}\n",
      "\\toprule\n",
      "{} &  precision &    recall &  f1-score &  support \\\\\n",
      "\\midrule\n",
      "0            &   0.571429 &  0.848485 &  0.682927 &     33.0 \\\\\n",
      "1            &   0.976303 &  0.907489 &  0.940639 &    227.0 \\\\\n",
      "accuracy     &   0.900000 &  0.900000 &  0.900000 &      0.9 \\\\\n",
      "macro avg    &   0.773866 &  0.877987 &  0.811783 &    260.0 \\\\\n",
      "weighted avg &   0.924915 &  0.900000 &  0.907930 &    260.0 \\\\\n",
      "\\bottomrule\n",
      "\\end{tabular}\n",
      "\\end{table}\n",
      "\n",
      "SUPPORT VECTOR MACHINES\n",
      "\\begin{table}\n",
      "\\centering\n",
      "\\caption{USABLE WITH GRADES}\n",
      "\\begin{tabular}{lrrrr}\n",
      "\\toprule\n",
      "{} &  precision &    recall &  f1-score &     support \\\\\n",
      "\\midrule\n",
      "0            &   0.595238 &  0.757576 &  0.666667 &   33.000000 \\\\\n",
      "1            &   0.963303 &  0.925110 &  0.943820 &  227.000000 \\\\\n",
      "accuracy     &   0.903846 &  0.903846 &  0.903846 &    0.903846 \\\\\n",
      "macro avg    &   0.779270 &  0.841343 &  0.805243 &  260.000000 \\\\\n",
      "weighted avg &   0.916587 &  0.903846 &  0.908643 &  260.000000 \\\\\n",
      "\\bottomrule\n",
      "\\end{tabular}\n",
      "\\end{table}\n",
      "\n",
      "------------------------------------------------------------\n",
      "\n",
      "\n",
      "----------------------------------------------------------------\n",
      "------------------------ USABLE WITHOUT GRADES --------------------------\n",
      "----------------------------------------------------------------\n",
      "LOGISTIC REGRESSION\n",
      "\\begin{table}\n",
      "\\centering\n",
      "\\caption{USABLE WITHOUT GRADES}\n",
      "\\begin{tabular}{lrrrr}\n",
      "\\toprule\n",
      "{} &  precision &    recall &  f1-score &     support \\\\\n",
      "\\midrule\n",
      "0            &   0.280488 &  0.696970 &  0.400000 &   33.000000 \\\\\n",
      "1            &   0.943820 &  0.740088 &  0.829630 &  227.000000 \\\\\n",
      "accuracy     &   0.734615 &  0.734615 &  0.734615 &    0.734615 \\\\\n",
      "macro avg    &   0.612154 &  0.718529 &  0.614815 &  260.000000 \\\\\n",
      "weighted avg &   0.859628 &  0.734615 &  0.775100 &  260.000000 \\\\\n",
      "\\bottomrule\n",
      "\\end{tabular}\n",
      "\\end{table}\n",
      "\n",
      "SUPPORT VECTOR MACHINES\n",
      "\\begin{table}\n",
      "\\centering\n",
      "\\caption{USABLE WITHOUT GRADES}\n",
      "\\begin{tabular}{lrrrr}\n",
      "\\toprule\n",
      "{} &  precision &    recall &  f1-score &     support \\\\\n",
      "\\midrule\n",
      "0            &   0.367347 &  0.545455 &  0.439024 &   33.000000 \\\\\n",
      "1            &   0.928910 &  0.863436 &  0.894977 &  227.000000 \\\\\n",
      "accuracy     &   0.823077 &  0.823077 &  0.823077 &    0.823077 \\\\\n",
      "macro avg    &   0.648128 &  0.704445 &  0.667001 &  260.000000 \\\\\n",
      "weighted avg &   0.857635 &  0.823077 &  0.837106 &  260.000000 \\\\\n",
      "\\bottomrule\n",
      "\\end{tabular}\n",
      "\\end{table}\n",
      "\n",
      "------------------------------------------------------------\n",
      "\n",
      "\n",
      "----------------------------------------------------------------\n",
      "------------------------ ACADEMIC WITH GRADES --------------------------\n",
      "----------------------------------------------------------------\n",
      "LOGISTIC REGRESSION\n",
      "\\begin{table}\n",
      "\\centering\n",
      "\\caption{ACADEMIC WITH GRADES}\n",
      "\\begin{tabular}{lrrrr}\n",
      "\\toprule\n",
      "{} &  precision &    recall &  f1-score &     support \\\\\n",
      "\\midrule\n",
      "0            &   0.600000 &  0.909091 &  0.722892 &   33.000000 \\\\\n",
      "1            &   0.985714 &  0.911894 &  0.947368 &  227.000000 \\\\\n",
      "accuracy     &   0.911538 &  0.911538 &  0.911538 &    0.911538 \\\\\n",
      "macro avg    &   0.792857 &  0.910493 &  0.835130 &  260.000000 \\\\\n",
      "weighted avg &   0.936758 &  0.911538 &  0.918877 &  260.000000 \\\\\n",
      "\\bottomrule\n",
      "\\end{tabular}\n",
      "\\end{table}\n",
      "\n",
      "SUPPORT VECTOR MACHINES\n",
      "\\begin{table}\n",
      "\\centering\n",
      "\\caption{ACADEMIC WITH GRADES}\n",
      "\\begin{tabular}{lrrrr}\n",
      "\\toprule\n",
      "{} &  precision &    recall &  f1-score &     support \\\\\n",
      "\\midrule\n",
      "0            &   0.500000 &  0.818182 &  0.620690 &   33.000000 \\\\\n",
      "1            &   0.970874 &  0.881057 &  0.923788 &  227.000000 \\\\\n",
      "accuracy     &   0.873077 &  0.873077 &  0.873077 &    0.873077 \\\\\n",
      "macro avg    &   0.735437 &  0.849620 &  0.772239 &  260.000000 \\\\\n",
      "weighted avg &   0.911109 &  0.873077 &  0.885317 &  260.000000 \\\\\n",
      "\\bottomrule\n",
      "\\end{tabular}\n",
      "\\end{table}\n",
      "\n",
      "------------------------------------------------------------\n",
      "\n",
      "\n",
      "----------------------------------------------------------------\n",
      "------------------------ ACADEMIC WITHOUT GRADES --------------------------\n",
      "----------------------------------------------------------------\n",
      "LOGISTIC REGRESSION\n",
      "\\begin{table}\n",
      "\\centering\n",
      "\\caption{ACADEMIC WITHOUT GRADES}\n",
      "\\begin{tabular}{lrrrr}\n",
      "\\toprule\n",
      "{} &  precision &    recall &  f1-score &     support \\\\\n",
      "\\midrule\n",
      "0            &   0.338710 &  0.636364 &  0.442105 &   33.000000 \\\\\n",
      "1            &   0.939394 &  0.819383 &  0.875294 &  227.000000 \\\\\n",
      "accuracy     &   0.796154 &  0.796154 &  0.796154 &    0.796154 \\\\\n",
      "macro avg    &   0.639052 &  0.727873 &  0.658700 &  260.000000 \\\\\n",
      "weighted avg &   0.863153 &  0.796154 &  0.820312 &  260.000000 \\\\\n",
      "\\bottomrule\n",
      "\\end{tabular}\n",
      "\\end{table}\n",
      "\n",
      "SUPPORT VECTOR MACHINES\n",
      "\\begin{table}\n",
      "\\centering\n",
      "\\caption{ACADEMIC WITHOUT GRADES}\n",
      "\\begin{tabular}{lrrrr}\n",
      "\\toprule\n",
      "{} &  precision &    recall &  f1-score &     support \\\\\n",
      "\\midrule\n",
      "0            &   0.409091 &  0.545455 &  0.467532 &   33.000000 \\\\\n",
      "1            &   0.930556 &  0.885463 &  0.907449 &  227.000000 \\\\\n",
      "accuracy     &   0.842308 &  0.842308 &  0.842308 &    0.842308 \\\\\n",
      "macro avg    &   0.669823 &  0.715459 &  0.687491 &  260.000000 \\\\\n",
      "weighted avg &   0.864370 &  0.842308 &  0.851614 &  260.000000 \\\\\n",
      "\\bottomrule\n",
      "\\end{tabular}\n",
      "\\end{table}\n",
      "\n",
      "------------------------------------------------------------\n",
      "\n",
      "\n",
      "----------------------------------------------------------------\n",
      "------------------------ SOCIAL --------------------------\n",
      "----------------------------------------------------------------\n",
      "LOGISTIC REGRESSION\n",
      "\\begin{table}\n",
      "\\centering\n",
      "\\caption{SOCIAL}\n",
      "\\begin{tabular}{lrrrr}\n",
      "\\toprule\n",
      "{} &  precision &    recall &  f1-score &     support \\\\\n",
      "\\midrule\n",
      "0            &   0.169492 &  0.606061 &  0.264901 &   33.000000 \\\\\n",
      "1            &   0.908451 &  0.568282 &  0.699187 &  227.000000 \\\\\n",
      "accuracy     &   0.573077 &  0.573077 &  0.573077 &    0.573077 \\\\\n",
      "macro avg    &   0.538971 &  0.587171 &  0.482044 &  260.000000 \\\\\n",
      "weighted avg &   0.814660 &  0.573077 &  0.644066 &  260.000000 \\\\\n",
      "\\bottomrule\n",
      "\\end{tabular}\n",
      "\\end{table}\n",
      "\n",
      "SUPPORT VECTOR MACHINES\n",
      "\\begin{table}\n",
      "\\centering\n",
      "\\caption{SOCIAL}\n",
      "\\begin{tabular}{lrrrr}\n",
      "\\toprule\n",
      "{} &  precision &    recall &  f1-score &     support \\\\\n",
      "\\midrule\n",
      "0            &   0.137255 &  0.424242 &  0.207407 &   33.000000 \\\\\n",
      "1            &   0.879747 &  0.612335 &  0.722078 &  227.000000 \\\\\n",
      "accuracy     &   0.588462 &  0.588462 &  0.588462 &    0.588462 \\\\\n",
      "macro avg    &   0.508501 &  0.518289 &  0.464743 &  260.000000 \\\\\n",
      "weighted avg &   0.785507 &  0.588462 &  0.656754 &  260.000000 \\\\\n",
      "\\bottomrule\n",
      "\\end{tabular}\n",
      "\\end{table}\n",
      "\n",
      "------------------------------------------------------------\n",
      "\n",
      "\n",
      "----------------------------------------------------------------\n",
      "------------------------ PERSONAL --------------------------\n",
      "----------------------------------------------------------------\n",
      "LOGISTIC REGRESSION\n",
      "\\begin{table}\n",
      "\\centering\n",
      "\\caption{PERSONAL}\n",
      "\\begin{tabular}{lrrrr}\n",
      "\\toprule\n",
      "{} &  precision &    recall &  f1-score &     support \\\\\n",
      "\\midrule\n",
      "0            &   0.200000 &  0.606061 &  0.300752 &   33.000000 \\\\\n",
      "1            &   0.918750 &  0.647577 &  0.759690 &  227.000000 \\\\\n",
      "accuracy     &   0.642308 &  0.642308 &  0.642308 &    0.642308 \\\\\n",
      "macro avg    &   0.559375 &  0.626819 &  0.530221 &  260.000000 \\\\\n",
      "weighted avg &   0.827524 &  0.642308 &  0.701440 &  260.000000 \\\\\n",
      "\\bottomrule\n",
      "\\end{tabular}\n",
      "\\end{table}\n",
      "\n",
      "SUPPORT VECTOR MACHINES\n",
      "\\begin{table}\n",
      "\\centering\n",
      "\\caption{PERSONAL}\n",
      "\\begin{tabular}{lrrrr}\n",
      "\\toprule\n",
      "{} &  precision &    recall &  f1-score &     support \\\\\n",
      "\\midrule\n",
      "0            &   0.183908 &  0.484848 &  0.266667 &   33.000000 \\\\\n",
      "1            &   0.901734 &  0.687225 &  0.780000 &  227.000000 \\\\\n",
      "accuracy     &   0.661538 &  0.661538 &  0.661538 &    0.661538 \\\\\n",
      "macro avg    &   0.542821 &  0.586037 &  0.523333 &  260.000000 \\\\\n",
      "weighted avg &   0.810625 &  0.661538 &  0.714846 &  260.000000 \\\\\n",
      "\\bottomrule\n",
      "\\end{tabular}\n",
      "\\end{table}\n",
      "\n",
      "------------------------------------------------------------\n",
      "\n",
      "\n"
     ]
    }
   ],
   "source": [
    "# Tables for LaTeX\n",
    "\n",
    "'''\n",
    "prints = [('USABLE WITH GRADES', Y_test_usbl_grades, y_pred_usbl_grades, Y_test_usbl_grades, y_pred_usbl_grades_svc),\n",
    "         ('USABLE WITHOUT GRADES', Y_test_usbl_no_grades, y_pred_usbl_no_grades, Y_test_usbl_no_grades, y_pred_usbl_no_grades_svc),\n",
    "         ('ACADEMIC WITH GRADES', Y_test_acdmc_grades, y_pred_acdmc_grades, Y_test_acdmc_grades, y_pred_acdmc_grades_svc),\n",
    "         ('ACADEMIC WITHOUT GRADES', Y_test_acdmc_no_grades, y_pred_acdmc_no_grades, Y_test_acdmc_no_grades, y_pred_acdmc_no_grades_svc),\n",
    "         ('SOCIAL', Y_test_soc, y_pred_soc, Y_test_soc, y_pred_soc_svc),\n",
    "         ('PERSONAL', Y_test_per, y_pred_per, Y_test_per, y_pred_per_svc)]\n",
    "\n",
    "for title, y_test, y_pred, y_test_svc, y_pred_svc in prints:\n",
    "    report_lr = classification_report(y_test, y_pred, output_dict=True)\n",
    "    report_svm = classification_report(y_test_svc, y_pred_svc, output_dict=True)\n",
    "    data_lr = pd.DataFrame(report_lr).transpose()\n",
    "    data_svm = pd.DataFrame(report_svm).transpose()\n",
    "    cptn = title\n",
    "    print('----------------------------------------------------------------')\n",
    "    print('------------------------', title, '--------------------------')\n",
    "    print('----------------------------------------------------------------')\n",
    "    print('LOGISTIC REGRESSION')\n",
    "    print(data_lr.to_latex(index=True, caption=cptn))\n",
    "    print('SUPPORT VECTOR MACHINES')\n",
    "    print(data_svm.to_latex(index=True, caption=cptn))\n",
    "    print('------------------------------------------------------------')\n",
    "    print('\\n')\n",
    "'''"
   ]
  }
 ],
 "metadata": {
  "kernelspec": {
   "display_name": "Python 3",
   "language": "python",
   "name": "python3"
  },
  "language_info": {
   "codemirror_mode": {
    "name": "ipython",
    "version": 3
   },
   "file_extension": ".py",
   "mimetype": "text/x-python",
   "name": "python",
   "nbconvert_exporter": "python",
   "pygments_lexer": "ipython3",
   "version": "3.7.6"
  }
 },
 "nbformat": 4,
 "nbformat_minor": 4
}
